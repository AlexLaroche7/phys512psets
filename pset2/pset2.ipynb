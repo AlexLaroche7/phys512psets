{
 "cells": [
  {
   "cell_type": "code",
   "execution_count": 1,
   "metadata": {},
   "outputs": [],
   "source": [
    "import numpy as np\n",
    "from scipy.integrate import quad\n",
    "from matplotlib import pyplot as plt\n",
    "from scipy.special import legendre"
   ]
  },
  {
   "cell_type": "markdown",
   "metadata": {},
   "source": [
    "# Problem Set 2\n",
    "## Alex Laroche (260854146)"
   ]
  },
  {
   "cell_type": "markdown",
   "metadata": {},
   "source": [
    "## Problem 1"
   ]
  },
  {
   "cell_type": "markdown",
   "metadata": {},
   "source": [
    "The electric field, in units of $q(4\\pi\\epsilon_0)^{-1},$ is given by\n",
    "\n",
    "$$E(z) = \\frac{1}{2}\\int_{-1}^1 \\frac{z-Ru}{(R^2+z^2-2Rzu)^{3/2}}du.$$"
   ]
  },
  {
   "cell_type": "code",
   "execution_count": 2,
   "metadata": {},
   "outputs": [],
   "source": [
    "func = lambda u,z,R: 0.5*(z-R*u)/(R**2+z**2-2*R*z*u)**(3/2) #function to integrate\n",
    "\n",
    "#Code taken from Jon's lecture notes\n",
    "\n",
    "def integrator(func,xi,xf,dx,order=2,args=None):\n",
    "    '''\n",
    "    Return integral of func from xi to xf using Legendre polynomials\n",
    "    \n",
    "    :param func: integrand\n",
    "    :param xi,xf: float integral start/end points\n",
    "    :param dx: float desired step size\n",
    "    :param order: int Legendre polynomial order\n",
    "    :param args: list function arguments, if applicable\n",
    "    '''\n",
    "    coeffs=integration_coeffs_legendre(order+1) #Legendre integration coefficients\n",
    "    npt=int((xf-xi)/dx)+1 #number of points\n",
    "    nn=(npt-1)%order\n",
    "    if nn>0: npt+=(order-nn) #adjust number of points if necessary\n",
    "    assert(npt%order==1) #enforce odd number of points\n",
    "    \n",
    "    x=np.linspace(xi,xf,npt)\n",
    "    dx=np.median(np.diff(x)) #median dx of x\n",
    "    if args==None: fx=func(x) #no params\n",
    "    else: fx=func(x,*args) #function with params\n",
    "    mat=np.reshape(fx[:-1],[int((npt-1)/order),order]).copy() #f(x) matrix\n",
    "    mat[0,0]+=fx[-1] #add first and last points\n",
    "    mat[1:,0]*=2 #points which are used in two bins are weighted accordingly\n",
    "    \n",
    "    vec=np.sum(mat,axis=0) #sum columns\n",
    "    return np.sum(vec*coeffs[:-1])*dx\n",
    "    \n",
    "def legendre_mat(n):\n",
    "    '''\n",
    "    Return nxn Legendre polynomial matrix\n",
    "    \n",
    "    :param n: int order\n",
    "    '''\n",
    "    x=np.linspace(-1,1,n)\n",
    "    mat=np.zeros([n,n])\n",
    "    mat[:,0]=1.\n",
    "    mat[:,1]=x\n",
    "    if n>2:\n",
    "        for i in range(1,n-1):\n",
    "            mat[:,i+1]=((2.*i+1)*x*mat[:,i]-i*mat[:,i-1])/(i+1.)\n",
    "    return mat\n",
    "\n",
    "def integration_coeffs_legendre(n):\n",
    "    '''\n",
    "    Return n Legendre integration coefficients\n",
    "    \n",
    "    :param n: int order\n",
    "    '''\n",
    "    mat=legendre_mat(n)\n",
    "    mat_inv=np.linalg.inv(mat)\n",
    "    coeffs=mat_inv[0,:]\n",
    "    coeffs*=(n-1.)/coeffs.sum()\n",
    "    return coeffs"
   ]
  },
  {
   "cell_type": "code",
   "execution_count": 5,
   "metadata": {},
   "outputs": [
    {
     "name": "stderr",
     "output_type": "stream",
     "text": [
      "<ipython-input-2-3ab8c8ac1331>:1: RuntimeWarning: invalid value encountered in true_divide\n",
      "  func = lambda u,z,R: 0.5*(z-R*u)/(R**2+z**2-2*R*z*u)**(3/2) #function to integrate\n"
     ]
    },
    {
     "data": {
      "image/png": "[encoded data removed]",
      "text/plain": [
       "<Figure size 432x288 with 1 Axes>"
      ]
     },
     "metadata": {
      "needs_background": "light"
     },
     "output_type": "display_data"
    }
   ],
   "source": [
    "R=1\n",
    "xi,xf=-1,1\n",
    "z1=np.linspace(1e-3,R,50)\n",
    "z2=np.linspace(R+1e-3,5,200)\n",
    "z=np.concatenate((z1,z2))\n",
    "dx=0.01\n",
    "\n",
    "int1=np.array([integrator(func,xi,xf,dx,args=(zi,R)) for zi in z])\n",
    "int2=np.array([quad(func,xi,xf,args=(zi,R))[0] for zi in z])\n",
    "\n",
    "plt.plot(z,int1,label='integrator')\n",
    "plt.plot(z,int2,label='quad')\n",
    "plt.xlabel('z')\n",
    "plt.ylabel('E(z)')\n",
    "plt.legend()\n",
    "plt.show()"
   ]
  },
  {
   "cell_type": "markdown",
   "metadata": {},
   "source": [
    "There is a singularity at $z=R.$ $\\texttt{integrator}$ is affected by the singularity and $\\texttt{quad}$ is not. Let's eliminate the bad points and see if they agree."
   ]
  },
  {
   "cell_type": "code",
   "execution_count": 6,
   "metadata": {},
   "outputs": [
    {
     "data": {
      "image/png": "[encoded data removed]",
      "text/plain": [
       "<Figure size 432x288 with 1 Axes>"
      ]
     },
     "metadata": {
      "needs_background": "light"
     },
     "output_type": "display_data"
    }
   ],
   "source": [
    "int1_mod = int1[(int1!=np.nan) & (np.abs(int1) <= 1)]\n",
    "z_mod = z[(int1!=np.nan) & (np.abs(int1) <= 1)]\n",
    "\n",
    "plt.plot(z_mod,int1_mod,label='integrator')\n",
    "plt.plot(z,int2,label='quad',ls='--')\n",
    "plt.axvline(1,color='k',ls=':', label='R')\n",
    "plt.xlabel('z')\n",
    "plt.ylabel('E(z)')\n",
    "plt.legend()\n",
    "plt.show()"
   ]
  },
  {
   "cell_type": "markdown",
   "metadata": {},
   "source": [
    "The functions agree for radii which are sufficiently far away from the shell where the singularity occurs."
   ]
  },
  {
   "cell_type": "markdown",
   "metadata": {},
   "source": [
    "## Problem 2"
   ]
  },
  {
   "cell_type": "code",
   "execution_count": 15,
   "metadata": {},
   "outputs": [],
   "source": [
    "def lazy_integrate_adaptive(fun,a,b,tol):\n",
    "    '''\n",
    "    Returns integral using adaptive integrator from lecture\n",
    "    \n",
    "    :param fun: integrand\n",
    "    :param a,b: integration bounds\n",
    "    :param tol: error tolerance\n",
    "    '''\n",
    "    x=np.linspace(a,b,5)\n",
    "    y=fun(x)\n",
    "    dx=(b-a)/(len(x)-1)\n",
    "    area1=2*dx*(y[0]+4*y[2]+y[4])/3\n",
    "    area2=dx*(y[0]+4*y[1]+2*y[2]+4*y[3]+y[4])/3\n",
    "    err=np.abs(area1-area2)\n",
    "    if err<tol: \n",
    "        return area2\n",
    "    else:\n",
    "        c=(a+b)/2\n",
    "        left=lazy_integrate_adaptive(fun,a,c,tol/2)\n",
    "        right=lazy_integrate_adaptive(fun,c,b,tol/2)\n",
    "        return left+right\n",
    "\n",
    "def areas(y,dx):\n",
    "    '''\n",
    "    Return areas using 3 and 5 points\n",
    "    \n",
    "    :param y: array of 5 y values\n",
    "    :param dx: distance between points\n",
    "    '''\n",
    "    area1=2*dx*(y[0]+4*y[2]+y[4])/3\n",
    "    area2=dx*(y[0]+4*y[1]+2*y[2]+4*y[3]+y[4])/3\n",
    "    return area1,area2\n",
    "\n",
    "def integrate_adaptive(fun,a,b,tol,extra=None):\n",
    "    '''\n",
    "    Returns integral using adaptive integration without evaluating points twice\n",
    "    \n",
    "    :param fun: integrand\n",
    "    :param a,b: integration bounds\n",
    "    :param tol: error tolerance\n",
    "    :param extra: specifies first step (None) or provides f(x) values as an array for subsequent steps\n",
    "    '''\n",
    "    global counter\n",
    "    if extra is None: #first step\n",
    "        x=np.linspace(a,b,5)\n",
    "        y=fun(x)\n",
    "        dx=(b-a)/(len(x)-1)\n",
    "        area1,area2=areas(y,dx)\n",
    "        if np.abs(area1-area2)<tol: #check if tolerance is satisfied\n",
    "            return area2\n",
    "        else:\n",
    "            c=x[2] #midpoint\n",
    "            #give left calculation first 3 f(x) values and right calculation final 3 f(x) values\n",
    "            return integrate_adaptive(fun,a,c,tol,extra=y[:-2])+integrate_adaptive(fun,c,b,tol,extra=y[2:])\n",
    "    if extra is not None: #subsequent steps\n",
    "        x=np.linspace(a,b,5)\n",
    "        y=np.empty(len(x))\n",
    "        y[::2]=extra #use previously evaluated f(x)\n",
    "        counter+=len(extra) #count number of saved function calls\n",
    "        y[1::2]=fun(x[1::2]) #compute new f(x)\n",
    "        dx=(b-a)/(len(x)-1)\n",
    "        area1,area2=areas(y,dx)\n",
    "        if np.abs(area1-area2)<tol:\n",
    "            return area2\n",
    "        else:\n",
    "            c=(a+b)/2\n",
    "            return integrate_adaptive(fun,a,c,tol,extra=y[:-2])+integrate_adaptive(fun,c,b,tol,extra=y[2:])"
   ]
  },
  {
   "cell_type": "code",
   "execution_count": 16,
   "metadata": {},
   "outputs": [
    {
     "data": {
      "text/latex": [
       "Lazy error $\\left(\\int_0^\\pi \\sin(x)\\,dx\\right)=$2.18e-08"
      ],
      "text/plain": [
       "<IPython.core.display.Latex object>"
      ]
     },
     "metadata": {},
     "output_type": "display_data"
    },
    {
     "name": "stdout",
     "output_type": "stream",
     "text": [
      "We saved 78 function calls\n"
     ]
    },
    {
     "data": {
      "text/latex": [
       "Efficient error$\\left(\\int_0^\\pi \\sin(x)\\,dx\\right)=$1.38e-07"
      ],
      "text/plain": [
       "<IPython.core.display.Latex object>"
      ]
     },
     "metadata": {},
     "output_type": "display_data"
    },
    {
     "data": {
      "text/latex": [
       "Lazy error $\\left(\\int_0^1 e^x\\,dx\\right)=$9.10e-09"
      ],
      "text/plain": [
       "<IPython.core.display.Latex object>"
      ]
     },
     "metadata": {},
     "output_type": "display_data"
    },
    {
     "name": "stdout",
     "output_type": "stream",
     "text": [
      "We saved 18 function calls\n"
     ]
    },
    {
     "data": {
      "text/latex": [
       "Efficient error $\\left(\\int_0^1 e^x\\,dx\\right)=$1.46e-07"
      ],
      "text/plain": [
       "<IPython.core.display.Latex object>"
      ]
     },
     "metadata": {},
     "output_type": "display_data"
    }
   ],
   "source": [
    "from IPython.display import display, Latex\n",
    "\n",
    "###Integrate sin(x) from 0 to pi\n",
    "fun=np.sin\n",
    "a,b=0,np.pi\n",
    "tol=1e-6\n",
    "targ=2\n",
    "\n",
    "#Lazy way\n",
    "integral=lazy_integrate_adaptive(fun,a,b,tol)\n",
    "display(Latex(r'Lazy error $\\left(\\int_0^\\pi \\sin(x)\\,dx\\right)=$'\n",
    "              +\"{:.2e}\".format(np.abs(integral-targ))))\n",
    "\n",
    "#Save function calls\n",
    "counter=0\n",
    "integral=integrate_adaptive(fun,a,b,tol)\n",
    "print('We saved %s function calls' %counter)\n",
    "display(Latex(r'Efficient error$\\left(\\int_0^\\pi \\sin(x)\\,dx\\right)=$'\n",
    "              +\"{:.2e}\".format(np.abs(integral-targ))))\n",
    "\n",
    "###Integrate exp(x) from -1 to 1\n",
    "fun=np.exp\n",
    "a,b=0,1\n",
    "tol=1e-6\n",
    "targ=np.e-1\n",
    "\n",
    "#Lazy way\n",
    "integral=lazy_integrate_adaptive(fun,a,b,tol)\n",
    "display(Latex(r'Lazy error $\\left(\\int_0^1 e^x\\,dx\\right)=$'\n",
    "              +\"{:.2e}\".format(np.abs(integral-targ))))\n",
    "\n",
    "#Save function calls\n",
    "counter=0\n",
    "integral=integrate_adaptive(fun,a,b,tol)\n",
    "print('We saved %s function calls' %counter)\n",
    "display(Latex(r'Efficient error $\\left(\\int_0^1 e^x\\,dx\\right)=$'\n",
    "              +\"{:.2e}\".format(np.abs(integral-targ))))"
   ]
  },
  {
   "cell_type": "markdown",
   "metadata": {},
   "source": [
    "$\\texttt{integrate_adaptive}$ does indeed save many function calls. The errors in comparison to $\\texttt{lazy_integrate_adaptive}$ are higher, but they still satisfy the inputted $10^{-6}$ tolerance."
   ]
  },
  {
   "cell_type": "markdown",
   "metadata": {},
   "source": [
    "## Problem 3"
   ]
  },
  {
   "cell_type": "code",
   "execution_count": 17,
   "metadata": {},
   "outputs": [],
   "source": [
    "from numpy.polynomial.chebyshev import chebfit,chebval\n",
    "from numpy.polynomial.legendre import legfit,legval\n",
    "\n",
    "def chebcoeffs(func,a,b,acc,deg=20):\n",
    "    '''\n",
    "    Returns minimal number of Chebyshev coefficients to model func on interval [a,b]\n",
    "    with desired accuracy.\n",
    "    \n",
    "    :param func: function to fit\n",
    "    :param a,b: fit bounds\n",
    "    :param acc: float desired accuracy\n",
    "    :param deg: int large degree to compute up to\n",
    "    '''\n",
    "    x=np.linspace(a,b,int(1e4))\n",
    "    y=func(x)\n",
    "    xs=2*(x-a)/(b-a)-1 #map [a,b] to [-1,1]\n",
    "    coeffs=chebfit(xs,y,deg)\n",
    "    for i in range(1,deg-1):\n",
    "        err=np.sum(coeffs[deg+1-i:]) #error is sum of dropped coefficients\n",
    "        if err>acc:\n",
    "            return coeffs[:-(i-1)] #returns minimal coeffs for desired accuracy\n",
    "\n",
    "def mylog2(x):\n",
    "    '''\n",
    "    Returns natural log of x using Chebyshev coeffs\n",
    "    \n",
    "    :param x: positive number\n",
    "    '''\n",
    "    assert(x>0) #positive\n",
    "    mant,exp=np.frexp(x) #x=mant*2**exp\n",
    "    coeffs=chebcoeffs(np.log2,0.5,1,1e-6) \n",
    "    mant_scale=2*(mant-0.5)/0.5-1 #scale mantissa to [-1,1]\n",
    "    log2_mant=chebval(mant_scale,coeffs)\n",
    "    ln_x=(exp+log2_mant)/np.log2(np.e)\n",
    "    return ln_x\n",
    "\n",
    "def legcoeffs(func,a,b,deg):\n",
    "    '''\n",
    "    Returns coefficients for input degree Legendre polynomial to fit func on [a,b]\n",
    "    \n",
    "    :param func: function to fit\n",
    "    :param a,b: fit bounds\n",
    "    :param deg: int Legendre order\n",
    "    '''\n",
    "    x=np.linspace(a,b,int(1e4))\n",
    "    y=func(x)\n",
    "    xs=2*(x-a)/(b-a)-1\n",
    "    return legfit(xs,y,deg)\n",
    "\n",
    "def mylog2_leg(x,deg):\n",
    "    '''\n",
    "    Returns natural log of x using Legendre coeffs\n",
    "    \n",
    "    :param x: positive number\n",
    "    '''\n",
    "    assert(x>0) #positive\n",
    "    mant,exp=np.frexp(x)\n",
    "    coeffs=legcoeffs(np.log2,0.5,1,deg)\n",
    "    mant_scale=2*(mant-0.5)/0.5-1 #scale mantissa to [-1,1]\n",
    "    log2_mant=legval(mant_scale,coeffs)\n",
    "    ln_x=(exp+log2_mant)/np.log2(np.e) #did not fit for log2(e)\n",
    "    return ln_x"
   ]
  },
  {
   "cell_type": "markdown",
   "metadata": {},
   "source": [
    "The natural log is evaluated in the following way:\n",
    "    \n",
    "$$\\begin{align*}\n",
    "    \\ln(x) = \\ln(m2^n)\n",
    "    = \\frac{n+\\log_2(m)}{\\log_2(e)}.\n",
    "\\end{align*}$$\n",
    "\n",
    "Let's compare the Chebyshev and Legendre polynomials for computing $\\ln(x).$"
   ]
  },
  {
   "cell_type": "code",
   "execution_count": 18,
   "metadata": {},
   "outputs": [
    {
     "name": "stdout",
     "output_type": "stream",
     "text": [
      "Chebyshev RMSE is 1.332099489471858e-07 and max error is 2.1821895490603538e-07\n",
      "Legendre RMSE is 1.1543025545306505e-07 and max error is 5.157447571235707e-07\n"
     ]
    },
    {
     "data": {
      "image/png": "[encoded data removed]",
      "text/plain": [
       "<Figure size 432x288 with 1 Axes>"
      ]
     },
     "metadata": {
      "needs_background": "light"
     },
     "output_type": "display_data"
    }
   ],
   "source": [
    "x=np.linspace(1e-1,1e3,1000)\n",
    "\n",
    "deg=len(chebcoeffs(np.log2,0.5,1,1e-6))-1\n",
    "logs_cheb=[mylog2(xi) for xi in x]\n",
    "logs_leg=[mylog2_leg(xi,deg) for xi in x]\n",
    "\n",
    "RMSE_cheb=np.sqrt(np.sum((logs_cheb-np.log(x))**2)/len(x))\n",
    "RMSE_leg=np.sqrt(np.sum((logs_leg-np.log(x))**2)/len(x))\n",
    "max_cheb=np.max(np.abs(logs_cheb-np.log(x)))\n",
    "max_leg=np.max(np.abs(logs_leg-np.log(x)))\n",
    "\n",
    "print('Chebyshev RMSE is %s and max error is %s' %(RMSE_cheb,max_cheb))\n",
    "print('Legendre RMSE is %s and max error is %s' %(RMSE_leg,max_leg))\n",
    "plt.plot(x,logs_cheb-np.log(x),c='orange',label='log cheby error')\n",
    "plt.plot(x,logs_leg-np.log(x),c='blue',ls='--',label='log legendre error')\n",
    "plt.xlabel('x')\n",
    "plt.legend()\n",
    "plt.show()"
   ]
  },
  {
   "cell_type": "markdown",
   "metadata": {},
   "source": [
    "The RMSE for both Chebyshev and Legendre are roughly the same, but the max error is lower by more than a factor of 2 when using Chebyshev polynomials."
   ]
  }
 ],
 "metadata": {
  "kernelspec": {
   "display_name": "Python 3",
   "language": "python",
   "name": "python3"
  },
  "language_info": {
   "codemirror_mode": {
    "name": "ipython",
    "version": 3
   },
   "file_extension": ".py",
   "mimetype": "text/x-python",
   "name": "python",
   "nbconvert_exporter": "python",
   "pygments_lexer": "ipython3",
   "version": "3.8.2"
  }
 },
 "nbformat": 4,
 "nbformat_minor": 4
}
